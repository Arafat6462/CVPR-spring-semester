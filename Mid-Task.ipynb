{
 "cells": [
  {
   "cell_type": "code",
   "execution_count": 1,
   "id": "719ef23e",
   "metadata": {},
   "outputs": [
    {
     "name": "stderr",
     "output_type": "stream",
     "text": [
      "2022-03-12 10:02:36.609639: W tensorflow/stream_executor/platform/default/dso_loader.cc:64] Could not load dynamic library 'libcudart.so.11.0'; dlerror: libcudart.so.11.0: cannot open shared object file: No such file or directory\n",
      "2022-03-12 10:02:36.609659: I tensorflow/stream_executor/cuda/cudart_stub.cc:29] Ignore above cudart dlerror if you do not have a GPU set up on your machine.\n"
     ]
    }
   ],
   "source": [
    "import tensorflow as tf\n",
    "from tensorflow.keras import datasets, layers, models\n",
    "import matplotlib.pyplot as plt\n",
    "import numpy as np"
   ]
  },
  {
   "cell_type": "code",
   "execution_count": 2,
   "id": "c9ac9739",
   "metadata": {},
   "outputs": [],
   "source": [
    "(x_train, y_train), (x_test, y_test) = datasets.cifar10.load_data()"
   ]
  },
  {
   "cell_type": "code",
   "execution_count": 3,
   "id": "e0c8a9d8",
   "metadata": {},
   "outputs": [
    {
     "data": {
      "text/plain": [
       "(50000, 32, 32, 3)"
      ]
     },
     "execution_count": 3,
     "metadata": {},
     "output_type": "execute_result"
    }
   ],
   "source": [
    "x_train.shape "
   ]
  },
  {
   "cell_type": "code",
   "execution_count": 4,
   "id": "484c14a6",
   "metadata": {},
   "outputs": [
    {
     "data": {
      "text/plain": [
       "(10000, 32, 32, 3)"
      ]
     },
     "execution_count": 4,
     "metadata": {},
     "output_type": "execute_result"
    }
   ],
   "source": [
    "x_test.shape"
   ]
  },
  {
   "cell_type": "code",
   "execution_count": 5,
   "id": "7ba1dc00",
   "metadata": {},
   "outputs": [
    {
     "data": {
      "text/plain": [
       "(50000, 1)"
      ]
     },
     "execution_count": 5,
     "metadata": {},
     "output_type": "execute_result"
    }
   ],
   "source": [
    "y_train.shape"
   ]
  },
  {
   "cell_type": "code",
   "execution_count": 6,
   "id": "1475dcfb",
   "metadata": {},
   "outputs": [
    {
     "data": {
      "text/plain": [
       "(10000, 1)"
      ]
     },
     "execution_count": 6,
     "metadata": {},
     "output_type": "execute_result"
    }
   ],
   "source": [
    "y_test.shape"
   ]
  },
  {
   "cell_type": "code",
   "execution_count": 7,
   "id": "98c2b0f6",
   "metadata": {},
   "outputs": [
    {
     "data": {
      "text/plain": [
       "array([[6],\n",
       "       [9],\n",
       "       [9],\n",
       "       [4]], dtype=uint8)"
      ]
     },
     "execution_count": 7,
     "metadata": {},
     "output_type": "execute_result"
    }
   ],
   "source": [
    "y_train[:4]"
   ]
  },
  {
   "cell_type": "code",
   "execution_count": 8,
   "id": "7b3416a5",
   "metadata": {},
   "outputs": [
    {
     "data": {
      "text/plain": [
       "array([3, 8, 8, 0], dtype=uint8)"
      ]
     },
     "execution_count": 8,
     "metadata": {},
     "output_type": "execute_result"
    }
   ],
   "source": [
    "y_train = y_train.reshape(-1,) # 1D array\n",
    "y_train[:4]\n",
    "\n",
    "y_test = y_test.reshape(-1,) # 1D array\n",
    "y_test[:4]"
   ]
  },
  {
   "cell_type": "code",
   "execution_count": 9,
   "id": "09f76382",
   "metadata": {},
   "outputs": [],
   "source": [
    "classes = [\"plane\",\"car\",\"bird\",\"cat\",\"deer\",\"dog\",\"frog\",\"horse\",\"ship\",\"truck\"] # label according to Y"
   ]
  },
  {
   "cell_type": "code",
   "execution_count": 10,
   "id": "159871b1",
   "metadata": {},
   "outputs": [],
   "source": [
    "def plot_sample(x,y, index):\n",
    "    plt.figure(figsize=(15,5))\n",
    "    plt.imshow(x[index])\n",
    "    plt.xlabel(classes[y[index]])\n",
    " "
   ]
  },
  {
   "cell_type": "code",
   "execution_count": 11,
   "id": "e41361e7",
   "metadata": {},
   "outputs": [
    {
     "data": {
      "image/png": "[encoded data removed]",
      "text/plain": [
       "<Figure size 1080x360 with 1 Axes>"
      ]
     },
     "metadata": {
      "needs_background": "light"
     },
     "output_type": "display_data"
    }
   ],
   "source": [
    "plot_sample(x_train, y_train,152)"
   ]
  },
  {
   "cell_type": "code",
   "execution_count": 12,
   "id": "4e24ac0f",
   "metadata": {},
   "outputs": [
    {
     "data": {
      "text/plain": [
       "(50000, 3072)"
      ]
     },
     "execution_count": 12,
     "metadata": {},
     "output_type": "execute_result"
    }
   ],
   "source": [
    "x_train_rows = x_train.reshape(x_train.shape[0], 32*32*3) # all image in 1D form.\n",
    "x_test_rows = x_test.reshape(x_test.shape[0], 32*32*3)\n",
    "x_train_rows.shape # all RGB and width, height in 1D form"
   ]
  },
  {
   "cell_type": "code",
   "execution_count": 13,
   "id": "b0f92fe5",
   "metadata": {},
   "outputs": [
    {
     "name": "stdout",
     "output_type": "stream",
     "text": [
      "[0 0 0 ... 0 0 0]\n"
     ]
    }
   ],
   "source": [
    "print(x_train_rows[0]-x_train_rows[0])"
   ]
  },
  {
   "cell_type": "code",
   "execution_count": 14,
   "id": "a6b3421a",
   "metadata": {},
   "outputs": [
    {
     "data": {
      "text/plain": [
       "(10000, 3072)"
      ]
     },
     "execution_count": 14,
     "metadata": {},
     "output_type": "execute_result"
    }
   ],
   "source": [
    "x_test_rows.shape"
   ]
  },
  {
   "cell_type": "code",
   "execution_count": 15,
   "id": "3008feb1",
   "metadata": {},
   "outputs": [
    {
     "data": {
      "text/plain": [
       "(50000, 3072)"
      ]
     },
     "execution_count": 15,
     "metadata": {},
     "output_type": "execute_result"
    }
   ],
   "source": [
    "x_train_rows.shape"
   ]
  },
  {
   "cell_type": "code",
   "execution_count": 16,
   "id": "d25c5696",
   "metadata": {},
   "outputs": [],
   "source": [
    "# euclidean distance between two image\n",
    "\n",
    "def eu_distance(train_column, test_column):\n",
    "    distance = 0.0\n",
    "    for i in range(len(train_column)):\n",
    "        distance += (train_column[i] - test_column[i])**2\n",
    "        #print(distance)\n",
    "    return np.sqrt(distance)\n",
    "      \n",
    "        \n",
    "    \n",
    "    "
   ]
  },
  {
   "cell_type": "code",
   "execution_count": 17,
   "id": "de415f8e",
   "metadata": {},
   "outputs": [
    {
     "data": {
      "text/plain": [
       "0.0"
      ]
     },
     "execution_count": 17,
     "metadata": {},
     "output_type": "execute_result"
    }
   ],
   "source": [
    "eu_distance(x_test_rows[0], x_test_rows[0])"
   ]
  },
  {
   "cell_type": "code",
   "execution_count": null,
   "id": "d7b6db99",
   "metadata": {},
   "outputs": [],
   "source": [
    " "
   ]
  },
  {
   "cell_type": "code",
   "execution_count": 18,
   "id": "2da825a7",
   "metadata": {
    "scrolled": true
   },
   "outputs": [
    {
     "name": "stderr",
     "output_type": "stream",
     "text": [
      "/tmp/ipykernel_75287/2167247119.py:6: RuntimeWarning: overflow encountered in ubyte_scalars\n",
      "  distance += (train_column[i] - test_column[i])**2\n"
     ]
    }
   ],
   "source": [
    "train = 500 # total train data, for 50k and 10k check takes un-realistic time\n",
    "test = 100 # total test data\n",
    "dic_distance = {}\n",
    "accuracy = np.zeros(21) # for storing different k value accuracy\n",
    "\n",
    "for i in range(test): # for test img (10k)\n",
    "    for j in range(train): # for train img (50k)\n",
    "        dic_distance.update({j:eu_distance(x_train_rows[j],x_test_rows[i])}) # storing distance in dictionar\n",
    "    \n",
    "    \n",
    "    sorted_distance = sorted(dic_distance.items(), key = lambda v: v[1]) # sorted by value and store in a list\n",
    "#     sorted_distance[0][0] first [] is order 0,1,2,.. and 2nd [] is 0=index, 1=distance\n",
    "#     print(\"from list min : \",sorted_distance[0][1],\" v: \",sorted_distance[0][0])\n",
    "    \n",
    "    \n",
    "    \n",
    "    # check test and train img for different k value (0 to 20)\n",
    "    for k in range(0,20): \n",
    "        occurrence = np.zeros(11)\n",
    "        for c in range(k+1):\n",
    "            occurrence[y_train[sorted_distance[k][0]]] +=1\n",
    "            \n",
    "        if y_train[np.argmax(occurrence)] == y_test[i]: # check with max occurrence matches image\n",
    "#             print(\"match, train is : \",y_train[sorted_distance[k][0]],\" and test : \",y_test[i],\" i j is : \",i,\" \",j)\n",
    "#             print(\" \")\n",
    "            accuracy[k+1] +=1\n",
    "\n",
    "        \n",
    "        \n",
    "    \n",
    "\n",
    "       \n",
    "    "
   ]
  },
  {
   "cell_type": "code",
   "execution_count": 19,
   "id": "e1783e7a",
   "metadata": {},
   "outputs": [
    {
     "name": "stdout",
     "output_type": "stream",
     "text": [
      "[ 0. 18. 13. 13. 11.  9.  8. 11.  8. 11. 10.  8. 12.  8.  9. 12. 15. 14.\n",
      " 12.  9. 11.]\n"
     ]
    }
   ],
   "source": [
    "# accuracy\n",
    "for i in range(len(accuracy)):\n",
    "    accuracy[i] = (accuracy[i]/test)*100\n",
    "print(accuracy)"
   ]
  },
  {
   "cell_type": "code",
   "execution_count": 20,
   "id": "057d0f57",
   "metadata": {},
   "outputs": [
    {
     "data": {
      "image/png": "[encoded data removed]",
      "text/plain": [
       "<Figure size 1008x576 with 1 Axes>"
      ]
     },
     "metadata": {
      "needs_background": "light"
     },
     "output_type": "display_data"
    }
   ],
   "source": [
    "plt.figure(figsize=(14,8))\n",
    "plt.xlabel('K value',fontsize=12)\n",
    "plt.ylabel('% Of Accuracy',fontsize=12)\n",
    "plt.title('KNN')\n",
    "plt.xlim(0,22)\n",
    "plt.ylim(0,40)\n",
    "plt.grid()\n",
    "plt.xticks(fontsize=12); plt.yticks(fontsize=12)\n",
    "plt.bar(range(len(accuracy)),accuracy, color='#607D8B')\n",
    "plt.show()"
   ]
  },
  {
   "cell_type": "code",
   "execution_count": 21,
   "id": "882eb52e",
   "metadata": {},
   "outputs": [],
   "source": [
    "# Error\n",
    "for i in range(len(accuracy)):\n",
    "    accuracy[i] = 100 - accuracy[i]\n",
    "    \n",
    "accuracy[0]= 0.0\n",
    "\n"
   ]
  },
  {
   "cell_type": "code",
   "execution_count": 22,
   "id": "c29c2502",
   "metadata": {
    "scrolled": true
   },
   "outputs": [
    {
     "data": {
      "text/plain": [
       "<Figure size 432x288 with 0 Axes>"
      ]
     },
     "metadata": {},
     "output_type": "display_data"
    },
    {
     "data": {
      "image/png": "[encoded data removed]",
      "text/plain": [
       "<Figure size 1008x288 with 1 Axes>"
      ]
     },
     "metadata": {
      "needs_background": "light"
     },
     "output_type": "display_data"
    }
   ],
   "source": [
    "plt.figure()\n",
    "plt.figure(figsize=(14,4))\n",
    "plt.plot(accuracy, 'or-', label='train error')\n",
    "plt.legend(loc='lower right')\n",
    "plt.grid()\n",
    "plt.title('KNN')\n",
    "plt.xlim(0,22)\n",
    "plt.ylim(0,100)\n",
    "plt.xticks(fontsize=12); plt.yticks(fontsize=12)\n",
    "plt.xlabel('K value',fontsize=12)\n",
    "plt.ylabel('% Of Error',fontsize=12)\n",
    "plt.show()\n"
   ]
  },
  {
   "cell_type": "markdown",
   "id": "56cd4a42",
   "metadata": {},
   "source": [
    "\n",
    "\n",
    "In K-NN, classify unknown data points by the nearest data point.in this case, we choose 500 train and 100 test data, though we have 50k train data and 10k test data but to find the distance between two images takes lots of time for all 60k data.\n",
    "after that, we calculate different K values (1 to 20). The accuracy of our model is very low for each of the K values. it was always below 20% accuracy. for lower k value we found relatively good results then it gradually decreases and again it increases.\n",
    "after observing all the results we can say that K-NN is not a good choice for image classification as its accuracy level is below average."
   ]
  },
  {
   "cell_type": "code",
   "execution_count": 23,
   "id": "48b0deb5",
   "metadata": {},
   "outputs": [],
   "source": [
    "# print(\"from list 3rd min : \",sorted_distance[2][1],\" v: \",sorted_distance[2][0])\n",
    "# print(sorted_distance)\n",
    "# print(y_test[30])\n",
    "# print(y_train[7])\n",
    "# print((accuracy[19]/test)*100,\"%\")\n",
    "# print(dis[0])\n",
    "# print(dic_distance[0])\n",
    "# print(sorted_distance[0])\n",
    "# sorted_distance = sorted(dic_distance.items(), key = lambda v: v[1]) # sorted by value and store in a same dictionary\n",
    "# dic = sorted(dic.items(), key = lambda v: v[1]) # sorted by value and store in a same dictionary\n"
   ]
  }
 ],
 "metadata": {
  "kernelspec": {
   "display_name": "Python 3 (ipykernel)",
   "language": "python",
   "name": "python3"
  },
  "language_info": {
   "codemirror_mode": {
    "name": "ipython",
    "version": 3
   },
   "file_extension": ".py",
   "mimetype": "text/x-python",
   "name": "python",
   "nbconvert_exporter": "python",
   "pygments_lexer": "ipython3",
   "version": "3.8.10"
  }
 },
 "nbformat": 4,
 "nbformat_minor": 5
}
